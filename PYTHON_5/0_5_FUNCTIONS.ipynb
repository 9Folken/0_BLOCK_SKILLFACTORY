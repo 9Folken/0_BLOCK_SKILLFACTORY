{
 "cells": [
  {
   "cell_type": "markdown",
   "metadata": {},
   "source": [
    "# <font color='6495ED'>Python Functions</font>\n",
    "\n",
    "[0. NumPy & Collections](.file:///D:\\_SKILL_FACTORY_\\1_-БЛОК_ЗНАКОМСТВО-С-ДАННЫМИ.-PYTHON-ДЛЯ-АНАЛИЗА-ДАННЫХ\\PYTHON_9_Introduction-to-NUMPY\\1_2_NumPy_and_Collections.ipynb)\n",
    "\n",
    "file:///D:/_SKILL_FACTORY_/0_%D0%91%D0%9B%D0%9E%D0%9A_%D0%92%D0%92%D0%95%D0%94%D0%95%D0%9D%D0%98%D0%95.%20%D0%9F%D0%A0%D0%9E%D0%95%D0%9A%D0%A2%D0%98%D0%A0%D0%9E%D0%92%D0%90%D0%9D%D0%98%D0%95%20%D0%A0%D0%90%D0%97%D0%A0%D0%90%D0%91%D0%9E%D0%A2%D0%9A%D0%98/PYTHON_5/0_5_FUNCTIONS.ipynb\n",
    "\n",
    "D:\\_SKILL_FACTORY_\\1_-БЛОК_ЗНАКОМСТВО-С-ДАННЫМИ.-PYTHON-ДЛЯ-АНАЛИЗА-ДАННЫХ\\PYTHON_9_Introduction-to-NUMPY\\1_2_NumPy_and_Collections.ipynb\n"
   ]
  }
 ],
 "metadata": {
  "language_info": {
   "name": "python"
  },
  "orig_nbformat": 4
 },
 "nbformat": 4,
 "nbformat_minor": 2
}
