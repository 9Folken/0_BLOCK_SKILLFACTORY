{
 "cells": [
  {
   "cell_type": "markdown",
   "metadata": {},
   "source": [
    "# <font color='6495ED'>Python Functions</font>"
   ]
  },
  {
   "cell_type": "markdown",
   "metadata": {},
   "source": [
    "## <font color='6495ED'>*BONUS 5. Iterators and Generators</font>"
   ]
  },
  {
   "cell_type": "markdown",
   "metadata": {},
   "source": [
    "### <font color='6495ED'>Задание 5.6</font>"
   ]
  },
  {
   "cell_type": "markdown",
   "metadata": {},
   "source": [
    "Дан генератор <font color='6495ED'>*mygen*</font>:"
   ]
  },
  {
   "cell_type": "code",
   "execution_count": 6,
   "metadata": {},
   "outputs": [],
   "source": [
    "def mygen():\n",
    "    i=7\n",
    "    while i>0:\n",
    "        i-=1\n",
    "        yield i"
   ]
  },
  {
   "cell_type": "markdown",
   "metadata": {},
   "source": [
    "Что будет выведено на экран в результате выполнения следующего кода?"
   ]
  },
  {
   "cell_type": "code",
   "execution_count": 7,
   "metadata": {},
   "outputs": [
    {
     "name": "stdout",
     "output_type": "stream",
     "text": [
      "6 5 4 3 2 1 0 "
     ]
    }
   ],
   "source": [
    "gen = mygen()\n",
    "for i in gen:\n",
    "    print(i, end=' ')"
   ]
  },
  {
   "cell_type": "markdown",
   "metadata": {},
   "source": [
    "### <font color='6495ED'>Задание 5.7</font>"
   ]
  },
  {
   "cell_type": "markdown",
   "metadata": {},
   "source": [
    "Напишите бесконечный итератор по списку.\n",
    "\n",
    "Для этого создайте генератор с названием <font color='6495ED'>*inf_iter*</font>, который принимает на вход список и возвращает элементы из него через <font color='6495ED'>*yield*</font>.\n",
    "\n",
    "Когда элементы в списке заканчиваются, генератор снова возвращает элементы из списка, начиная с нулевого.\n",
    "\n",
    "Пример работы итератора:"
   ]
  },
  {
   "cell_type": "code",
   "execution_count": null,
   "metadata": {},
   "outputs": [],
   "source": [
    "# l = [101, 102, 103]\n",
    "# gen = inf_iter(l)\n",
    "# for _ in range(10):\n",
    "#     print(next(gen))"
   ]
  },
  {
   "cell_type": "code",
   "execution_count": 1,
   "metadata": {},
   "outputs": [
    {
     "name": "stdout",
     "output_type": "stream",
     "text": [
      "101\n",
      "102\n",
      "103\n",
      "101\n",
      "102\n",
      "103\n",
      "101\n",
      "102\n",
      "103\n",
      "101\n"
     ]
    }
   ],
   "source": [
    "l = [101, 102, 103]\n",
    "def inf_iter_try(l_in):\n",
    "    din_iter = iter(l_in)\n",
    "    while True:\n",
    "        try:\n",
    "            yield next(din_iter)            \n",
    "            #print(i)\n",
    "        except StopIteration:\n",
    "            din_iter = iter(l_in)\n",
    "def inf_iter(l_in):    \n",
    "    while True:\n",
    "        for i in l_in:\n",
    "            yield i\n",
    "\n",
    "gen = inf_iter(l)\n",
    "\n",
    "for _ in range(10):\n",
    "    \n",
    "    print(next(gen))"
   ]
  },
  {
   "cell_type": "markdown",
   "metadata": {},
   "source": [
    "### <font color='6495ED'>Задание 5.8</font>"
   ]
  },
  {
   "cell_type": "markdown",
   "metadata": {},
   "source": [
    "Напишите генератор <font color='6495ED'>*group_gen(n)*</font>. Он должен при каждом вызове выдавать порядковый номер от <font color='6495ED'>*1*</font> до <font color='6495ED'>*n*</font> (включая <font color='6495ED'>*n*</font>). После достижения <font color='6495ED'>*n*</font> генератор должен снова возвращать номера, начиная с <font color='6495ED'>*1*</font>."
   ]
  },
  {
   "cell_type": "code",
   "execution_count": 30,
   "metadata": {},
   "outputs": [
    {
     "name": "stdout",
     "output_type": "stream",
     "text": [
      "1\n",
      "2\n",
      "3\n",
      "1\n",
      "2\n",
      "3\n",
      "1\n",
      "2\n",
      "3\n",
      "1\n"
     ]
    }
   ],
   "source": [
    "#ваш код здесь\n",
    "def group_gen(n):\n",
    "    while True:\n",
    "        for i in range(n):\n",
    "            yield i + 1\n",
    "groups = group_gen(3)\n",
    "\n",
    "\n",
    "for _ in range(10):\n",
    "    print(next(groups))\n",
    "# 1\n",
    "# 2\n",
    "# 3\n",
    "# 1\n",
    "# 2\n",
    "# 3\n",
    "# 1\n",
    "# 2\n",
    "# 3\n",
    "# 1"
   ]
  },
  {
   "cell_type": "markdown",
   "metadata": {},
   "source": [
    "### <font color='6495ED'>Задание 5.9</font>"
   ]
  },
  {
   "cell_type": "markdown",
   "metadata": {},
   "source": [
    "Дан код генератора, созданного в виде отдельной функции:"
   ]
  },
  {
   "cell_type": "code",
   "execution_count": 2,
   "metadata": {},
   "outputs": [],
   "source": [
    "def root_generator(values):\n",
    "    for val in values:\n",
    "        if val >= 0:\n",
    "            result = val ** 0.5\n",
    "            yield result"
   ]
  },
  {
   "cell_type": "markdown",
   "metadata": {},
   "source": [
    "Он был применён к списку [-5, 25, 36, -25, 0]:"
   ]
  },
  {
   "cell_type": "code",
   "execution_count": 8,
   "metadata": {},
   "outputs": [
    {
     "name": "stdout",
     "output_type": "stream",
     "text": [
      "(5.0, 6.0, 0.0)\n"
     ]
    }
   ],
   "source": [
    "new_root_generator = tuple(root_generator([-5, 25, 36, -25, 0]))\n",
    "print(new_root_generator)"
   ]
  },
  {
   "cell_type": "markdown",
   "metadata": {},
   "source": [
    "В результате получен генератор квадратных корней для положительных значений из переданного в него списка (самостоятельно проверьте, что выдаёт генератор).\n",
    "\n",
    "Какой сокращённый генератор будет генерировать те же значения, что и <font color='6495ED'>*new_root_generator*</font>?"
   ]
  },
  {
   "cell_type": "code",
   "execution_count": 7,
   "metadata": {},
   "outputs": [
    {
     "name": "stdout",
     "output_type": "stream",
     "text": [
      "(5.0, 6.0, 0.0)\n"
     ]
    }
   ],
   "source": [
    "short_generator = tuple(i ** 0.5 for i in [-5, 25, 36, -25, 0] if i >= 0)\n",
    "print(short_generator)"
   ]
  }
 ],
 "metadata": {
  "interpreter": {
   "hash": "b7ec038717c5fb24dc411165f4cac633945c04e5870d786804644f951795d114"
  },
  "kernelspec": {
   "display_name": "Python 3.10.4 64-bit",
   "language": "python",
   "name": "python3"
  },
  "language_info": {
   "codemirror_mode": {
    "name": "ipython",
    "version": 3
   },
   "file_extension": ".py",
   "mimetype": "text/x-python",
   "name": "python",
   "nbconvert_exporter": "python",
   "pygments_lexer": "ipython3",
   "version": "3.10.4"
  },
  "orig_nbformat": 4
 },
 "nbformat": 4,
 "nbformat_minor": 2
}
