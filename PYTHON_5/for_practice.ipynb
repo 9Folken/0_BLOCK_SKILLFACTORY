{
 "cells": [
  {
   "cell_type": "code",
   "execution_count": 49,
   "metadata": {},
   "outputs": [
    {
     "name": "stdout",
     "output_type": "stream",
     "text": [
      "5\n"
     ]
    }
   ],
   "source": [
    "import numpy\n",
    "# Создадим словарь с оценками студентов\n",
    "grades = {'Ivanov': 5, 'Smirnov': 3, 'Kuznetsova': 4, 'Tihonova': 5}\n",
    "# Напечатаем оценку студента, которого нет в словаре\n",
    "print(grades['Tihonova'])\n",
    "# Возникнет исключение KeyError: 'Pavlov'\n",
    "# Оно означает, что переданного ключа (слово \"Pavlov\")\n",
    "# нет в словаре"
   ]
  },
  {
   "cell_type": "code",
   "execution_count": 50,
   "metadata": {},
   "outputs": [
    {
     "name": "stdout",
     "output_type": "stream",
     "text": [
      "Speed cannot be equal to 0!\n"
     ]
    }
   ],
   "source": [
    "def get_time(distance, speed):\n",
    "    # Добавьте проверку скорости на равенство 0\n",
    "    # Верните ошибку ValueError с текстом\n",
    "    # \"Speed cannot be equal to 0!\"\n",
    " \n",
    "    if distance < 0 or speed < 0:\n",
    "       raise ValueError(\"Distance or speed cannot be below 0!\")\n",
    "    elif speed == 0:\n",
    "       raise ValueError(\"Speed cannot be equal to 0!\")\n",
    "    result = distance / speed\n",
    "    return result\n",
    "\n",
    "\n",
    "#попытка вызвать функцию с некорректными аргументами\n",
    "try:\n",
    "    print(get_time(100, 0))\n",
    "#должна завершиться с ошибкой ValueError, которую мы выведем в блоке except\n",
    "except ValueError as e:\n",
    "    print(e)"
   ]
  },
  {
   "cell_type": "code",
   "execution_count": 51,
   "metadata": {},
   "outputs": [
    {
     "name": "stdout",
     "output_type": "stream",
     "text": [
      "9.0\n"
     ]
    }
   ],
   "source": [
    "# В функцию должны передаваться 2 значения:\n",
    "# число и степень корня\n",
    "def root(value, n=2):\n",
    "    # Как мы уже выяснили, чтобы посчитать\n",
    "    # корень степени n из числа, можно возвести это число\n",
    "    # в степень 1/n\n",
    "    result = value ** (1/n)\n",
    "    return result\n",
    "\n",
    "# Посчитаем корень 3-ей степени (кубический корень) из 27\n",
    "print(root(81))\n",
    "# Будет напечатано:\n",
    "# 3.0"
   ]
  },
  {
   "cell_type": "code",
   "execution_count": 52,
   "metadata": {},
   "outputs": [],
   "source": [
    "''' # Функция add_mark (от англ. add mark — \"добавить оценку\")\n",
    "# принимает обязательные аргументы name (имя) и\n",
    "# mark (оценка). Необязательным аргументом является journal\n",
    "# (журнал оценок), который по умолчанию является пустым словарём.\n",
    "def add_mark(name, mark, journal={}):\n",
    "    # Присваиваем имени в журнале переданную оценку\n",
    "    journal[name] = mark\n",
    "    return journal '''\n",
    "def add_mark(name, mark, journal=None):\n",
    "    # Если журнал является None\n",
    "    # (напоминание: сравнивать объект с None\n",
    "    # корректнее через оператор is),\n",
    "    # запишем в journal пустой словарь\n",
    "    if journal is None:\n",
    "        journal = {}\n",
    "    journal[name] = mark\n",
    "    return journal"
   ]
  },
  {
   "cell_type": "code",
   "execution_count": 53,
   "metadata": {},
   "outputs": [
    {
     "name": "stdout",
     "output_type": "stream",
     "text": [
      "{'Ivanov': 5, 'Tihonova': 4}\n"
     ]
    }
   ],
   "source": [
    "# Создадим пустой словарь, в который будем\n",
    "# сохранять оценки группы 1\n",
    "group1 = {}\n",
    "# Добавим оценки двух студентов\n",
    "group1 = add_mark('Ivanov', 5, group1)\n",
    "group1 = add_mark('Tihonova', 4, group1)\n",
    "print(group1)\n",
    "# Будет напечатано:\n",
    "# {'Ivanov': 5, 'Tihonova': 4}"
   ]
  },
  {
   "cell_type": "code",
   "execution_count": 54,
   "metadata": {},
   "outputs": [
    {
     "name": "stdout",
     "output_type": "stream",
     "text": [
      "{'Smirnov': 3}\n"
     ]
    }
   ],
   "source": [
    "# Добавим в журнал для новой группы оценку Смирнову\n",
    "# Сам журнал не передаём в виде аргумента\n",
    "# Пустой журнал будет использован как аргумент по умолчанию\n",
    "group2 = add_mark('Smirnov', 3)\n",
    "print(group2)\n",
    "# Будет напечатано:\n",
    "# {'Smirnov': 3}"
   ]
  },
  {
   "cell_type": "code",
   "execution_count": 55,
   "metadata": {},
   "outputs": [
    {
     "name": "stdout",
     "output_type": "stream",
     "text": [
      "{'Kuznetsova': 5}\n"
     ]
    }
   ],
   "source": [
    "# Аналогично для новой группы 3 добавим оценку Кузнецовой\n",
    "group3 = add_mark('Kuznetsova', 5)\n",
    "print(group3)\n",
    "# Будет напечатано:\n",
    "# {'Smirnov': 3, 'Kuznetsova': 5}"
   ]
  },
  {
   "cell_type": "code",
   "execution_count": 56,
   "metadata": {},
   "outputs": [
    {
     "name": "stdout",
     "output_type": "stream",
     "text": [
      "{'Ivanov': 3}\n"
     ]
    }
   ],
   "source": [
    "\n",
    "def add_mark(name, mark, journal=None):\n",
    "       # Добавьте здесь проверку аргумента mark\n",
    "\n",
    "    if journal is None:\n",
    "        journal = {}\n",
    "    if mark not in range(2,6):\n",
    "        raise ValueError(\"Invalid Mark!\")\n",
    "    journal[name] = mark\n",
    "    return journal\n",
    "\n",
    "#попытка вызвать функцию с некорректными аргументами\n",
    "try:\n",
    "    \n",
    "    print(add_mark('Ivanov', 3))\n",
    "#должна завершиться с ошибкой ValueError, которую мы выведем в блоке except\n",
    "except ValueError as e:\n",
    "    print(e)"
   ]
  },
  {
   "cell_type": "code",
   "execution_count": 57,
   "metadata": {},
   "outputs": [],
   "source": [
    "def root(value, n=2, verbose=False):\n",
    "    result = value ** (1/n)\n",
    "    if verbose:\n",
    "        # Аргументы в функции print,\n",
    "        # перечисленные через запятую,\n",
    "        # печатаются через пробел\n",
    "        print('Root of power', n, 'from',\n",
    "            value, 'equals', result)\n",
    "    return result"
   ]
  },
  {
   "cell_type": "code",
   "execution_count": 58,
   "metadata": {},
   "outputs": [
    {
     "name": "stdout",
     "output_type": "stream",
     "text": [
      "5.0\n",
      "3.0\n",
      "Root of power 3 from 27 equals 3.0\n",
      "3.0\n"
     ]
    }
   ],
   "source": [
    "# Посчитаем корень из 25 с аргументами по умолчанию\n",
    "print(root(25))\n",
    "# Будет напечатано:\n",
    "# 5.0\n",
    " \n",
    "# Посчитаем кубический корень из 27 с verbose по умолчанию\n",
    "print(root(27, 3))\n",
    "# Будет напечатано:\n",
    "# 3.0\n",
    " \n",
    "#Посчитаем кубический корень из 27 с verbose=True\n",
    "print(root(27, 3, True))\n",
    "# Будет напечатано:\n",
    "# Root of power 3 from 27 equals 3.0\n",
    "# 3.0"
   ]
  },
  {
   "cell_type": "code",
   "execution_count": 59,
   "metadata": {},
   "outputs": [
    {
     "name": "stdout",
     "output_type": "stream",
     "text": [
      "<class 'tuple'>\n",
      "5.0\n"
     ]
    }
   ],
   "source": [
    "# В массив args будут записаны все переданные\n",
    "# порядковые аргументы\n",
    "def mean(*args):\n",
    "    # Среднее значение — это сумма всех значений,\n",
    "    # делённая на число этих значений\n",
    "    # Функция sum — встроенная, она возвращает\n",
    "    # сумму чисел\n",
    "    result = sum(args) / len(args)\n",
    "    print(type(args))\n",
    "    return result\n",
    " \n",
    "# Передадим аргументы в функцию через запятую,\n",
    "# чтобы посчитать их среднее\n",
    "print(mean(5,4,4,3,9))\n",
    "\n",
    "# Будет напечатано\n",
    "# 4.0"
   ]
  },
  {
   "cell_type": "code",
   "execution_count": 60,
   "metadata": {},
   "outputs": [
    {
     "name": "stdout",
     "output_type": "stream",
     "text": [
      "True\n",
      "(5, 4, 4, 3)\n",
      "4.0\n"
     ]
    }
   ],
   "source": [
    "def mean(*numbers):\n",
    "    # С помощью встроенной функции isinstance\n",
    "    # проверим, что numbers — это tuple\n",
    "    print(isinstance(numbers, tuple))\n",
    "    # Напечатаем содержимое объекта numbers\n",
    "    print(numbers)\n",
    "    result = sum(numbers) / len(numbers)\n",
    "    return result\n",
    " \n",
    "print(mean(5,4,4,3))\n",
    "# Будет напечатано\n",
    "# True\n",
    "# (5, 4, 4, 3)\n",
    "# 4.0"
   ]
  },
  {
   "cell_type": "code",
   "execution_count": 61,
   "metadata": {},
   "outputs": [
    {
     "name": "stdout",
     "output_type": "stream",
     "text": [
      "Ivanov: 4.75\n",
      "Petrov: 4.25\n"
     ]
    }
   ],
   "source": [
    "# В качестве первого аргумента принимаем фамилию\n",
    "# студента, а затем уже его оценки через запятую\n",
    "def mean_mark(name, *marks):\n",
    "    result = sum(marks) / len(marks)\n",
    "    # Не возвращаем результат, а печатаем его\n",
    "    print(name+':', result)\n",
    " \n",
    "mean_mark(\"Ivanov\", 5, 5, 5, 4)\n",
    "mean_mark(\"Petrov\", 5, 3, 5, 4)\n",
    "# Будет напечатано:\n",
    "# Ivanov: 4.75\n",
    "# Petrov: 4.25"
   ]
  },
  {
   "cell_type": "code",
   "execution_count": 62,
   "metadata": {},
   "outputs": [
    {
     "name": "stdout",
     "output_type": "stream",
     "text": [
      "8\n"
     ]
    }
   ],
   "source": [
    "def mult(*args):\n",
    "   result = 1\n",
    "   for x in args:\n",
    "      result *= x\n",
    "   return result\n",
    "print(mult(2,2,2))\n",
    "      "
   ]
  },
  {
   "cell_type": "code",
   "execution_count": 63,
   "metadata": {},
   "outputs": [
    {
     "name": "stdout",
     "output_type": "stream",
     "text": [
      "Python, SQL, Machine Learning, Statistics\n"
     ]
    }
   ],
   "source": [
    "langs = ['Python', 'SQL', 'Machine Learning', 'Statistics']\n",
    "print(*langs, sep=', ')\n",
    "# Будет напечатано:\n",
    "# ['Python', 'SQL', 'Machine Learning', 'Statistics']"
   ]
  },
  {
   "cell_type": "code",
   "execution_count": 64,
   "metadata": {},
   "outputs": [
    {
     "name": "stdout",
     "output_type": "stream",
     "text": [
      "Kuznetsov: 4.454545454545454\n",
      "<class 'list'>\n",
      "Kuznetsov:\n"
     ]
    }
   ],
   "source": [
    "marks = [4,5,5,5,5,3,4,4,5,4,5]\n",
    "name1 = 'Kuznetsov'\n",
    "def mean_mark(name, *marks):\n",
    "    result = sum(marks) / len(marks)\n",
    "    # Не возвращаем результат, а печатаем его\n",
    "    print(name+':', result)\n",
    "mean_mark('Kuznetsov', *marks)\n",
    "print(type(marks))\n",
    "print(name1+':')"
   ]
  },
  {
   "cell_type": "code",
   "execution_count": 65,
   "metadata": {},
   "outputs": [
    {
     "name": "stdout",
     "output_type": "stream",
     "text": [
      "Week schedule:\n",
      "Wednesday - Maths\n",
      "Thursday - SQL\n",
      "Friday - Statistics\n"
     ]
    }
   ],
   "source": [
    "# def schedule(**kwargs):\n",
    "#     # kwargs — это словарь, проверим это с помощью isinstance:\n",
    "#     print(isinstance(kwargs, dict))\n",
    "#     # Напечатаем объект kwargs\n",
    "#     print(kwargs)\n",
    "lessons = {\n",
    "    'Wednesday': 'Maths',\n",
    "    'Thursday': 'SQL',\n",
    "    'Friday': 'Statistics'\n",
    "}\n",
    "def schedule(**kwargs):\n",
    "    print(\"Week schedule:\")\n",
    "    for key in kwargs:\n",
    "        print(key, kwargs[key], sep=' - ')\n",
    "schedule(**lessons)\n",
    "#schedule(monday='Python', tuesday='SQL', friday='ML')\n",
    "#schedule(monday='Python', tuesday='SQL', 5='ML')"
   ]
  },
  {
   "cell_type": "code",
   "execution_count": 66,
   "metadata": {},
   "outputs": [
    {
     "name": "stdout",
     "output_type": "stream",
     "text": [
      "(1, 4, 5, 7)\n",
      "{'name': 'Ivanov', 'age': 19, 'city': 'Moscow'}\n"
     ]
    }
   ],
   "source": [
    "def print_args(*args, **kwargs):\n",
    "    print(args)\n",
    "    print(kwargs)\n",
    " \n",
    "print_args(1,4,5,7, name='Ivanov', age=19, city='Moscow')\n",
    "# Будет напечатано:\n",
    "# (1, 4, 5, 7)\n",
    "# {'name': 'Ivanov', 'age': 19, 'city': 'Moscow'}"
   ]
  },
  {
   "cell_type": "code",
   "execution_count": 67,
   "metadata": {},
   "outputs": [
    {
     "name": "stdout",
     "output_type": "stream",
     "text": [
      "1, 4, 6, 8; 12, 45, 56, 190, 111; Python, Functions; "
     ]
    }
   ],
   "source": [
    "list1 = [1,4,6,8]\n",
    "list2 = [12, 45, 56, 190, 111]\n",
    "list3 = ['Python', 'Functions']\n",
    " \n",
    "# Один раз запишем в словарь параметры для печати\n",
    "# через print: разделитель — запятая,\n",
    "# окончание строки — точка с запятой\n",
    "how = {'sep': ', ', 'end': '; '}\n",
    " \n",
    "# Распаковываем и список, и словарь how\n",
    "print(*list1, **how)\n",
    "print(*list2, **how)\n",
    "print(*list3, **how)\n",
    " \n",
    "#Будет напечатано:\n",
    "# 1, 4, 6, 8; 12, 45, 56, 190, 111; Python, Functions;"
   ]
  },
  {
   "cell_type": "code",
   "execution_count": 68,
   "metadata": {},
   "outputs": [
    {
     "name": "stdout",
     "output_type": "stream",
     "text": [
      "['Kim', 'Ivan', 'Simon', 'German', 'Margarita']\n"
     ]
    }
   ],
   "source": [
    "names = ['Ivan', 'Kim', 'German', 'Margarita', 'Simon']\n",
    "names.sort(key=lambda name: (len(name), name))\n",
    "print(names)\n",
    "# Будет напечатано:\n",
    "# ['Kim', 'Ivan', 'Simon', 'German', 'Margarita']"
   ]
  },
  {
   "cell_type": "code",
   "execution_count": 69,
   "metadata": {},
   "outputs": [
    {
     "name": "stdout",
     "output_type": "stream",
     "text": [
      "['German', 'Ivan', 'Kim', 'Margarita', 'Simon']\n"
     ]
    }
   ],
   "source": [
    "names = ['Ivan', 'Kim', 'German', 'Margarita', 'Simon']\n",
    "\n",
    "names.sort()\n",
    "print(names)\n",
    "# Будет напечатано:\n",
    "# ['German', 'Ivan', 'Kim', 'Margarita', 'Simon']"
   ]
  },
  {
   "cell_type": "code",
   "execution_count": 70,
   "metadata": {},
   "outputs": [
    {
     "name": "stdout",
     "output_type": "stream",
     "text": [
      "['cc', 'aaa', 'bbb', 'aaaaa', 'ababa']\n"
     ]
    }
   ],
   "source": [
    "new_list = ['bbb', 'ababa','aaa', 'aaaaa',  'cc']\n",
    "\n",
    "def get_length(name):\n",
    "    return len(name)\n",
    "\n",
    "new_list.sort(key= lambda word:(len(word),word))\n",
    "print(new_list)\n",
    "# Должно быть напечатано:\n",
    "# ['cc', 'bbb', 'aaa', 'ababa', 'aaaaa']"
   ]
  },
  {
   "cell_type": "code",
   "execution_count": 71,
   "metadata": {},
   "outputs": [
    {
     "name": "stdout",
     "output_type": "stream",
     "text": [
      "[(1, 2), (3, 4), (10, 10)]\n"
     ]
    }
   ],
   "source": [
    "# Напишите lambda-функцию\n",
    "hyp = lambda a, b: ((a**2 + b**2)**(1/2))\n",
    "def sort_sides(l_in):\n",
    "    l_in.sort(key=lambda tpl: ((tpl[0]**2 + tpl[1]**2)**(1/2)))\n",
    "    return l_in\n",
    "   \n",
    "\n",
    "print(sort_sides([(3,4), (1,2), (10,10)]))\n",
    "# [(1, 2), (3, 4), (10, 10)]"
   ]
  },
  {
   "cell_type": "code",
   "execution_count": 4,
   "metadata": {},
   "outputs": [
    {
     "name": "stdout",
     "output_type": "stream",
     "text": [
      "None\n"
     ]
    }
   ],
   "source": [
    "def get_less(list_in, num):\n",
    "    for x in list_in:\n",
    "        if x < num:\n",
    "            return x\n",
    "l = [1, 5, 8,  10]\n",
    "print(get_less(l,0))"
   ]
  },
  {
   "cell_type": "code",
   "execution_count": 26,
   "metadata": {},
   "outputs": [
    {
     "name": "stdout",
     "output_type": "stream",
     "text": [
      "(1, 9, 109)\n"
     ]
    }
   ],
   "source": [
    "def split_date(date):\n",
    "   day = date[:2]\n",
    "   month = date[2:4]\n",
    "   year = date[4:]\n",
    "   \n",
    "   if day[0] == '0':\n",
    "          day = day[1:]\n",
    "   if month[0] == '0':\n",
    "          month = month[1:]\n",
    "   for i, dig in enumerate(year):\n",
    "       if dig == '0':\n",
    "              dig = ''\n",
    "   \n",
    "   return int(day),int(month),int(year)\n",
    "print(split_date(\"01090109\"))"
   ]
  },
  {
   "cell_type": "code",
   "execution_count": 57,
   "metadata": {},
   "outputs": [
    {
     "name": "stdout",
     "output_type": "stream",
     "text": [
      "6 % 2 = 0\n"
     ]
    },
    {
     "data": {
      "text/plain": [
       "False"
      ]
     },
     "execution_count": 57,
     "metadata": {},
     "output_type": "execute_result"
    }
   ],
   "source": [
    "def is_prime(num):\n",
    "    if num == 1:\n",
    "        return False\n",
    "    for n in range(num-2):\n",
    "        print(num, '%',n+2, '=', num%(n+2))\n",
    "        if num%(n+2) == 0:\n",
    "            return False\n",
    "        \n",
    "        \n",
    "        \n",
    "    return True\n",
    "is_prime(6)\n"
   ]
  },
  {
   "cell_type": "code",
   "execution_count": 66,
   "metadata": {},
   "outputs": [
    {
     "data": {
      "text/plain": [
       "5.0"
      ]
     },
     "execution_count": 66,
     "metadata": {},
     "output_type": "execute_result"
    }
   ],
   "source": [
    "def between_min_max(*nums):\n",
    "    \n",
    "    minv = min(list(nums))\n",
    "    maxv = max(list(nums))\n",
    "    res = (minv + maxv) / 2\n",
    "    return res\n",
    "    print(res)\n",
    "between_min_max(5,6,1,9)"
   ]
  },
  {
   "cell_type": "code",
   "execution_count": 77,
   "metadata": {},
   "outputs": [
    {
     "name": "stdout",
     "output_type": "stream",
     "text": [
      "Mike\n",
      "Tom\n",
      "Jane\n"
     ]
    }
   ],
   "source": [
    "def best_student(**kwargs):\n",
    "    best_rate = min(list(kwargs.values()))\n",
    "    for k in kwargs:        \n",
    "        if kwargs[k] == best_rate:\n",
    "            return k\n",
    "   \n",
    "\n",
    "\n",
    "print(best_student(Tom=12, Mike=3))\n",
    "print(best_student(Tom=12))\n",
    "print(best_student(Tom=12, Jerry=3, Jane=2))"
   ]
  },
  {
   "cell_type": "code",
   "execution_count": 85,
   "metadata": {},
   "outputs": [
    {
     "name": "stdout",
     "output_type": "stream",
     "text": [
      "yes\n"
     ]
    }
   ],
   "source": [
    "is_palindrom = lambda x: 'yes' if str(x)==str(x)[::-1] else 'no' \n",
    "\n",
    "print(is_palindrom(1335331))"
   ]
  },
  {
   "cell_type": "code",
   "execution_count": 86,
   "metadata": {},
   "outputs": [
    {
     "name": "stdout",
     "output_type": "stream",
     "text": [
      "60\n"
     ]
    }
   ],
   "source": [
    "area = lambda a,b: a*b\n",
    "print(area(12,5))\n",
    "# 60"
   ]
  },
  {
   "cell_type": "code",
   "execution_count": 89,
   "metadata": {},
   "outputs": [
    {
     "data": {
      "text/plain": [
       "4.5"
      ]
     },
     "execution_count": 89,
     "metadata": {},
     "output_type": "execute_result"
    }
   ],
   "source": [
    "between_min_max = lambda *nums: (min(list(nums)) + max(list(nums))) / 2\n",
    "    \n",
    "    \n",
    "between_min_max(0,0,0,9)"
   ]
  },
  {
   "cell_type": "code",
   "execution_count": 90,
   "metadata": {},
   "outputs": [
    {
     "name": "stdout",
     "output_type": "stream",
     "text": [
      "['abc', 'Acc']\n"
     ]
    }
   ],
   "source": [
    "sort_ignore_case = lambda res_lst: sorted(res_lst, key=str.lower)\n",
    "\n",
    "print(sort_ignore_case(['Acc', 'abc']))\n",
    "# ['abc', 'Acc']"
   ]
  },
  {
   "cell_type": "code",
   "execution_count": 3,
   "metadata": {},
   "outputs": [
    {
     "name": "stdout",
     "output_type": "stream",
     "text": [
      "85.0\n",
      "8500\n",
      "11.764705882352942\n",
      "Too many arguments\n",
      "None\n",
      "Not enough arguments\n",
      "None\n"
     ]
    }
   ],
   "source": [
    "def exchange(usd=None,rub=None,rate=None):\n",
    "    i = 0\n",
    "    lst = [usd,rub,rate]\n",
    "    try:\n",
    "        if usd and rub and rate:\n",
    "            raise ValueError('Too many arguments')\n",
    "        for x in lst:\n",
    "            if x == None:\n",
    "                i += 1    \n",
    "        if i >= 2:\n",
    "            raise ValueError('Not enough arguments')\n",
    "    except ValueError as e:\n",
    "        return print(e)\n",
    "    if usd is None:\n",
    "        return rub/rate\n",
    "    if rub is None:\n",
    "        return usd*rate\n",
    "    if rate is None:\n",
    "        return rub/usd\n",
    "    \n",
    "\n",
    "print(exchange(usd=100, rub=8500))\n",
    "print(exchange(usd=100, rate=85))\n",
    "print(exchange(rub=1000, rate=85))\n",
    "# 85.0\n",
    "# 8500\n",
    "# 11.764705882352942\n",
    "\n",
    "\n",
    "print(exchange(rub=1000, rate=85, usd=90))\n",
    "# ValueError: Too many arguments\n",
    "\n",
    "\n",
    "\n",
    "\n",
    "print(exchange(rub=1000))\n",
    "# ValueError: Not enough arguments\n",
    "\n",
    "\n",
    "\n",
    "\n",
    "\n",
    "\n",
    "\n"
   ]
  }
 ],
 "metadata": {
  "interpreter": {
   "hash": "b7ec038717c5fb24dc411165f4cac633945c04e5870d786804644f951795d114"
  },
  "kernelspec": {
   "display_name": "Python 3.10.4 64-bit",
   "language": "python",
   "name": "python3"
  },
  "language_info": {
   "codemirror_mode": {
    "name": "ipython",
    "version": 3
   },
   "file_extension": ".py",
   "mimetype": "text/x-python",
   "name": "python",
   "nbconvert_exporter": "python",
   "pygments_lexer": "ipython3",
   "version": "3.10.4"
  },
  "orig_nbformat": 4
 },
 "nbformat": 4,
 "nbformat_minor": 2
}
