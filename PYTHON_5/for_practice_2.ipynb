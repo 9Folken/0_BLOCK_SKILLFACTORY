{
 "cells": [
  {
   "cell_type": "code",
   "execution_count": 52,
   "metadata": {},
   "outputs": [],
   "source": [
    "# Зададим внешнюю функцию\n",
    "def print_root(value, n=2):\n",
    "    # Зададим внутреннюю функцию\n",
    "    # Она будет являться вспомогательной\n",
    "    def root(value, n=2):\n",
    "        result = value ** (1/n)\n",
    "        return result\n",
    "    # Получим результат из внутренней функции\n",
    "    res = root(value, n)\n",
    "    # Печатаем результат и не возвращаем его\n",
    "    print('Root of power', n, 'from', value, 'equals', res)"
   ]
  },
  {
   "cell_type": "code",
   "execution_count": 53,
   "metadata": {},
   "outputs": [
    {
     "name": "stdout",
     "output_type": "stream",
     "text": [
      "Root of power 3 from 8 equals 2.0\n"
     ]
    }
   ],
   "source": [
    "print_root(8,3)"
   ]
  },
  {
   "cell_type": "code",
   "execution_count": 54,
   "metadata": {},
   "outputs": [
    {
     "name": "stdout",
     "output_type": "stream",
     "text": [
      "Employee John Doe is registered with the company TheBlindMice\n"
     ]
    }
   ],
   "source": [
    "#объявляем внешнюю функцию для регистрации сотрудников\n",
    "def register_employee(name, surname):\n",
    "    #объявляем функцию для промежуточных вычислений\n",
    "    def create_full_name():\n",
    "        #функция использует внешние переменные name и surname\n",
    "        sep = ' ' #разделитель между именем и фамилией\n",
    "        result = name + sep + surname #вычисляем полное имя\n",
    "        return result\n",
    "    full_name = create_full_name() #вызываем внутреннюю функцию\n",
    "    #выводим результат на экран, используя внешнюю переменную company_name\n",
    "    print('Employee {} is registered with the company {}'.format(full_name, company_name))\n",
    "    \n",
    "company_name = 'TheBlindMice' #название компании\n",
    "register_employee('John','Doe') #вызов функции\n",
    "\n",
    "\n",
    "#Будет выведено\n",
    "#Employee John Doe is registered with the company TheBlindMice"
   ]
  },
  {
   "cell_type": "code",
   "execution_count": 55,
   "metadata": {},
   "outputs": [
    {
     "name": "stdout",
     "output_type": "stream",
     "text": [
      "1\n"
     ]
    }
   ],
   "source": [
    "# Создадим глобальную переменную\n",
    "# и приравняем её нулю\n",
    "global_counter = 0\n",
    " \n",
    "# Создадим функцию, которая прибавляет 1\n",
    "# к переменной global_counter\n",
    "def add_one():\n",
    "    global global_counter\n",
    "    global_counter += 1\n",
    " \n",
    "# Запустим функцию add_one\n",
    "add_one()\n",
    "# Напечатаем значение переменной global_counter\n",
    "print(global_counter)\n",
    " \n",
    "# Возникнет ошибка\n",
    "# UnboundLocalError: local variable 'global_counter' referenced before assignment"
   ]
  },
  {
   "cell_type": "code",
   "execution_count": 56,
   "metadata": {},
   "outputs": [
    {
     "name": "stdout",
     "output_type": "stream",
     "text": [
      "<function outer.<locals>.inner at 0x00000217A455CF70>\n",
      "x in outer function:  1\n",
      "x in outer function:  1\n"
     ]
    }
   ],
   "source": [
    "#объявляем внешнюю функцию\n",
    "def outer():\n",
    "    x = 1 #создаём локальную переменную\n",
    "    #объявляем внутреннюю функцию\n",
    "    def inner():\n",
    "        print('x in outer function: ', x)\n",
    "    #внешняя функция возвращает внутреннюю\n",
    "    return inner\n",
    "out = outer()\n",
    "print(out)\n",
    "#Получим <function outer.<locals>.inner at 0x0000025DAA3C4700>\n",
    "out()\n",
    "#x in outer function:  1\n",
    "outer()()\n",
    "#x in outer function:  1"
   ]
  },
  {
   "cell_type": "code",
   "execution_count": 57,
   "metadata": {},
   "outputs": [
    {
     "name": "stdout",
     "output_type": "stream",
     "text": [
      "2\n",
      "3\n",
      "4\n"
     ]
    }
   ],
   "source": [
    "# Функция, которая создаёт счётчик\n",
    "def counter():\n",
    "    # Начальное значение счётчика — 0\n",
    "    number = 0\n",
    "    # Функция add будет каждый раз прибавлять\n",
    "    # к счётчику 1 при запуске\n",
    "    def add():\n",
    "        # Сообщаем, что number берём из\n",
    "        # внешней функции\n",
    "        nonlocal number\n",
    "        # Увеличиваем значение счётчика на 1   \n",
    "        number += 1\n",
    "        # Возвращаем текущее число запусков счётчика\n",
    "        return number\n",
    "    # Возвращаем не результат вычислений,\n",
    "    # а непосредственно саму функцию add\n",
    "    # без круглых скобок!\n",
    "    return add\n",
    "counter1 = counter()\n",
    "counter1()\n",
    "print(counter1())\n",
    "print(counter1())\n",
    "print(counter1())"
   ]
  },
  {
   "cell_type": "markdown",
   "metadata": {},
   "source": [
    "ЗАДАНИЕ 2.5\n"
   ]
  },
  {
   "cell_type": "code",
   "execution_count": 58,
   "metadata": {},
   "outputs": [
    {
     "name": "stdout",
     "output_type": "stream",
     "text": [
      "25\n",
      "125\n",
      "144\n"
     ]
    }
   ],
   "source": [
    "def saver():\n",
    "   sum1 = 0\n",
    "   def adder(num):\n",
    "      nonlocal sum1\n",
    "      sum1 += num\n",
    "      return sum1\n",
    "   return adder\n",
    "pig = saver()\n",
    "print(pig(25))\n",
    "print(pig(100))\n",
    "print(pig(19))\n",
    "# 25\n",
    "# 125\n",
    "# 144"
   ]
  },
  {
   "cell_type": "code",
   "execution_count": 59,
   "metadata": {},
   "outputs": [
    {
     "name": "stdout",
     "output_type": "stream",
     "text": [
      "[10, 21, 24, 12]\n",
      "[21, 24, 12]\n",
      "[24, 12]\n",
      "[12]\n",
      "[]\n",
      "67\n"
     ]
    }
   ],
   "source": [
    "def sum_lst(lst):\n",
    "    # Выводим текущее значение lst\n",
    "    print(lst)\n",
    "    # Задаём условие выхода из рекурсии\n",
    "    if len(lst) == 0:return 0\n",
    "    # Во всех других случаях возвращаем\n",
    "    # сумму первого элемента списка \n",
    "    # и результат суммирования оставшихся\n",
    "    return lst[0] + sum_lst(lst[1:])\n",
    " \n",
    "my_lst = [10, 21, 24, 12]\n",
    "print(sum_lst(my_lst))"
   ]
  },
  {
   "cell_type": "markdown",
   "metadata": {},
   "source": [
    "Задание 3.4"
   ]
  },
  {
   "cell_type": "code",
   "execution_count": 60,
   "metadata": {},
   "outputs": [
    {
     "name": "stdout",
     "output_type": "stream",
     "text": [
      "[1, 2, 3, 4, 5, 6, 7, 8, 9, 10]\n",
      "[2, 3, 4, 5, 6, 7, 8, 9, 10]\n",
      "[3, 4, 5, 6, 7, 8, 9, 10]\n",
      "[4, 5, 6, 7, 8, 9, 10]\n",
      "[5, 6, 7, 8, 9, 10]\n",
      "[6, 7, 8, 9, 10]\n",
      "[7, 8, 9, 10]\n",
      "[8, 9, 10]\n",
      "[9, 10]\n",
      "[10]\n",
      "3628800\n"
     ]
    }
   ],
   "source": [
    "# Напишите рекурсивную функцию multiply_lst, которая перемножает элементы заданного списка между собой. \n",
    "\n",
    "def multiply_lst(lst):\n",
    "    # Выводим текущее значение lst\n",
    "    \n",
    "    # Задаём условие выхода из рекурсии\n",
    "    if len(lst) == 0:return 1\n",
    "    print(lst)\n",
    "    \n",
    "    return lst[0] * multiply_lst(lst[1:])\n",
    "\n",
    "\n",
    "my_lst = [10, 21, 24, 12]\n",
    "my_lst = list(range(1,11))\n",
    "print(multiply_lst(my_lst))"
   ]
  },
  {
   "cell_type": "code",
   "execution_count": null,
   "metadata": {},
   "outputs": [
    {
     "ename": "Error",
     "evalue": "Canceled future for execute_request message before replies were done",
     "output_type": "error",
     "traceback": [
      "Error: Canceled future for execute_request message before replies were done",
      "at t.KernelShellFutureHandler.dispose (c:\\Users\\OMEN\\.vscode\\extensions\\ms-toolsai.jupyter-2022.3.1000901801\\out\\extension.js:2:1204175)",
      "at c:\\Users\\OMEN\\.vscode\\extensions\\ms-toolsai.jupyter-2022.3.1000901801\\out\\extension.js:2:1223227",
      "at Map.forEach (<anonymous>)",
      "at v._clearKernelState (c:\\Users\\OMEN\\.vscode\\extensions\\ms-toolsai.jupyter-2022.3.1000901801\\out\\extension.js:2:1223212)",
      "at v.dispose (c:\\Users\\OMEN\\.vscode\\extensions\\ms-toolsai.jupyter-2022.3.1000901801\\out\\extension.js:2:1216694)",
      "at c:\\Users\\OMEN\\.vscode\\extensions\\ms-toolsai.jupyter-2022.3.1000901801\\out\\extension.js:2:533674",
      "at t.swallowExceptions (c:\\Users\\OMEN\\.vscode\\extensions\\ms-toolsai.jupyter-2022.3.1000901801\\out\\extension.js:2:913059)",
      "at dispose (c:\\Users\\OMEN\\.vscode\\extensions\\ms-toolsai.jupyter-2022.3.1000901801\\out\\extension.js:2:533652)",
      "at t.RawSession.dispose (c:\\Users\\OMEN\\.vscode\\extensions\\ms-toolsai.jupyter-2022.3.1000901801\\out\\extension.js:2:537330)",
      "at runMicrotasks (<anonymous>)",
      "at processTicksAndRejections (node:internal/process/task_queues:96:5)"
     ]
    }
   ],
   "source": [
    "def factorial(n):\n",
    "    # Задаём условия выхода из рекурсии:\n",
    "    if n==0: return 1\n",
    "    if n==1: return 1\n",
    "    # Во всех других случаях возвращаем\n",
    "    # произведение текущего числа n и функции от n-1\n",
    "    return factorial(n-1)*n\n",
    "print(factorial(0))\n",
    "print(factorial(3))\n",
    "print(factorial(5))\n",
    "# Будет напечатано:\n",
    "# 1\n",
    "# 6\n",
    "# 120\n",
    "print(len(str(factorial(2109))))"
   ]
  },
  {
   "cell_type": "code",
   "execution_count": null,
   "metadata": {},
   "outputs": [
    {
     "name": "stdout",
     "output_type": "stream",
     "text": [
      "0.10585498809814453\n"
     ]
    }
   ],
   "source": [
    "from time import time\n",
    "import sys\n",
    "sys.setrecursionlimit(1000000000)\n",
    " \n",
    "def factorial(n):\n",
    "    if n==0: return 1\n",
    "    if n==1: return 1\n",
    "    return factorial(n-1)*n\n",
    "a = time()\n",
    "for i in range(100):\n",
    "    factorial(1000)\n",
    "b = time()\n",
    "print(b-a)\n",
    "# Будет напечатано:\n",
    "# 4.058465242385864"
   ]
  },
  {
   "cell_type": "markdown",
   "metadata": {},
   "source": [
    "ЗАДАНИЕ 3.7"
   ]
  },
  {
   "cell_type": "code",
   "execution_count": null,
   "metadata": {},
   "outputs": [
    {
     "name": "stdout",
     "output_type": "stream",
     "text": [
      "13\n"
     ]
    }
   ],
   "source": [
    "def fib(n):\n",
    "      # Задаём условия выхода из рекурсии:\n",
    "    if n==0:\n",
    "        return 0\n",
    "    if n in (1, 2):\n",
    "       return 1\n",
    "  \n",
    "    return fib(n-1) + fib(n-2)\n",
    "    \n",
    "       \n",
    "# print(fib(0))\n",
    "# print(fib(2))\n",
    "print(fib(7))\n",
    "# print(fib(10))\n",
    "# 0\n",
    "# 1\n",
    "# 8"
   ]
  },
  {
   "cell_type": "markdown",
   "metadata": {},
   "source": [
    "ЗАДАНИЕ 4.5"
   ]
  },
  {
   "cell_type": "code",
   "execution_count": null,
   "metadata": {},
   "outputs": [
    {
     "name": "stdout",
     "output_type": "stream",
     "text": [
      "25\n",
      "-125\n"
     ]
    }
   ],
   "source": [
    "def power(val, n):\n",
    "    if n == 0:\n",
    "        return 1\n",
    "    if n == 1:\n",
    "       return val\n",
    "    return val*power(val,(n-1))\n",
    "print(power(25,1))\n",
    "print(power(-5,3))\n",
    "# 1\n",
    "# 625"
   ]
  },
  {
   "cell_type": "markdown",
   "metadata": {},
   "source": [
    "ЗАДАНИЕ 4.6"
   ]
  },
  {
   "cell_type": "code",
   "execution_count": null,
   "metadata": {},
   "outputs": [
    {
     "name": "stdout",
     "output_type": "stream",
     "text": [
      "True\n",
      "False\n",
      "True\n"
     ]
    }
   ],
   "source": [
    "def is_leap(year):\n",
    "    if year%4 == 0 and year%100 != 0:\n",
    "        return True\n",
    "    if year%400 == 0:\n",
    "        return True\n",
    "    else:\n",
    "        return False\n",
    "print(is_leap(2000))\n",
    "print(is_leap(1900))\n",
    "print(is_leap(2020))\n",
    "# True\n",
    "# False\n",
    "# True"
   ]
  },
  {
   "cell_type": "markdown",
   "metadata": {},
   "source": [
    "ЗАДАНИЕ 4.7"
   ]
  },
  {
   "cell_type": "code",
   "execution_count": null,
   "metadata": {},
   "outputs": [
    {
     "name": "stdout",
     "output_type": "stream",
     "text": [
      "False\n",
      "True\n",
      "False\n",
      "False\n",
      "***********\n",
      "True\n",
      "True\n",
      "False\n",
      "False\n",
      "False\n"
     ]
    }
   ],
   "source": [
    "def check_date(day, month, year):\n",
    "    if type(day) is not int or type(month) is not int or type(year) is not int:\n",
    "        return False\n",
    "    if year <= 1900 or year >= 2022:\n",
    "        return False\n",
    "    if month not in list(range(1,13)):\n",
    "        return False\n",
    "    if day not in list(range(1,32)):\n",
    "        return False\n",
    "    if month in [4,6,9,11] and day > 30:\n",
    "        return False\n",
    "    if month == 2 and day > 29:\n",
    "        return False\n",
    "    if month == 2 and day == 29 and not is_leap(year):\n",
    "        return False\n",
    "    \n",
    "    else:\n",
    "        return True\n",
    "print(check_date(31,4,1999))\n",
    "print(check_date(29,2,2000))\n",
    "print(check_date(29,2,2023))\n",
    "print(check_date(13,13,1999))\n",
    "\n",
    "print('***********')\n",
    "\n",
    "print(check_date(18,8,1999))\n",
    "print(check_date(29,2,2000))\n",
    "print(check_date(29,2,2021))\n",
    "print(check_date(13,13,2021))\n",
    "print(check_date(13.5,12,2021))\n",
    "# True\n",
    "# True\n",
    "# False\n",
    "# False\n",
    "# False"
   ]
  },
  {
   "cell_type": "markdown",
   "metadata": {},
   "source": [
    "ЗАДАНИЕ 4.8"
   ]
  },
  {
   "cell_type": "code",
   "execution_count": 21,
   "metadata": {},
   "outputs": [
    {
     "name": "stdout",
     "output_type": "stream",
     "text": [
      "[('Petrova', 'Maria', 'Ivanovna', 13, 3, 2003), ('Ivanov', 'Sergej', 24, 9, 1995), ('Smith', 'John', 13, 2, 2003)]\n",
      "Invalid Date!\n"
     ]
    }
   ],
   "source": [
    "def is_leap(year):\n",
    "    if year%4 == 0 and year%100 != 0:\n",
    "        return True\n",
    "    if year%400 == 0:\n",
    "        return True\n",
    "    else:\n",
    "        return False\n",
    "def check_date(day, month, year):\n",
    "    if type(day) is not int or type(month) is not int or type(year) is not int:\n",
    "        return False\n",
    "    if year <= 1900 or year >= 2022:\n",
    "        return False\n",
    "    if month not in list(range(1,13)):\n",
    "        return False\n",
    "    if day not in list(range(1,32)):\n",
    "        return False\n",
    "    if month in [4,6,9,11] and day > 30:\n",
    "        return False\n",
    "    if month == 2 and day > 29:\n",
    "        return False\n",
    "    if month == 2 and day == 29 and not is_leap(year):\n",
    "        return False    \n",
    "    else:\n",
    "        return True\n",
    "    \n",
    "def register(surname, name, date, middle_name=None, registry=None):\n",
    "    if registry is None:\n",
    "            registry = []\n",
    "            \n",
    "    list_tmp = []\n",
    "    \n",
    "    if middle_name:\n",
    "        list_tmp.extend([surname, name, middle_name, date[0],date[1],date[2]])\n",
    "    else:\n",
    "        list_tmp.extend([surname, name, *date])\n",
    "    registry.append(tuple(list_tmp))\n",
    "    \n",
    "    if not check_date(*date):\n",
    "        raise ValueError(\"Invalid Date!\")   \n",
    "   \n",
    "    return registry\n",
    "reg = register('Petrova', 'Maria', (13, 3, 2003), 'Ivanovna')\n",
    "reg = register('Ivanov', 'Sergej', (24, 9, 1995), registry=reg)\n",
    "reg = register('Smith', 'John', (13, 2, 2003), registry=reg)\n",
    "print(reg)\n",
    "# [('Petrova', 'Maria', 'Ivanovna', 13, 3, 2003), ('Ivanov', 'Sergej', None, 24, 9, 1995), ('Smith', 'John', None, 13, 2, 2003)]\n",
    "try:\n",
    "    reg = register('Ivanov', 'Sergej', (24, 13, 1995))\n",
    "# ValueError: Invalid Date!\n",
    "except ValueError as e:\n",
    "    print(e)"
   ]
  }
 ],
 "metadata": {
  "interpreter": {
   "hash": "63c5fd574edbed5dcbaa5d77385d9a001f837da67ad67f940607cb5d3a45a232"
  },
  "kernelspec": {
   "display_name": "Python 3.10.4 64-bit",
   "language": "python",
   "name": "python3"
  },
  "language_info": {
   "codemirror_mode": {
    "name": "ipython",
    "version": 3
   },
   "file_extension": ".py",
   "mimetype": "text/x-python",
   "name": "python",
   "nbconvert_exporter": "python",
   "pygments_lexer": "ipython3",
   "version": "3.10.4"
  },
  "orig_nbformat": 4
 },
 "nbformat": 4,
 "nbformat_minor": 2
}
