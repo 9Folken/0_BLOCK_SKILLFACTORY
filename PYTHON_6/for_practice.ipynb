{
 "cells": [
  {
   "cell_type": "markdown",
   "metadata": {},
   "source": [
    "Задание 1.5"
   ]
  },
  {
   "cell_type": "code",
   "execution_count": 2,
   "metadata": {},
   "outputs": [
    {
     "name": "stdout",
     "output_type": "stream",
     "text": [
      "238328\n"
     ]
    }
   ],
   "source": [
    "python_string = 'Hello! My name is Python. I will help you to analyze some data'\n",
    "num = int(len(python_string))\n",
    "print(num**3)"
   ]
  },
  {
   "cell_type": "markdown",
   "metadata": {},
   "source": [
    "Задание 1.6"
   ]
  },
  {
   "cell_type": "code",
   "execution_count": 3,
   "metadata": {},
   "outputs": [
    {
     "name": "stdout",
     "output_type": "stream",
     "text": [
      "Python\n"
     ]
    }
   ],
   "source": [
    "print(python_string[18:24])"
   ]
  },
  {
   "cell_type": "markdown",
   "metadata": {},
   "source": [
    "Задание 1.7"
   ]
  },
  {
   "cell_type": "code",
   "execution_count": 4,
   "metadata": {},
   "outputs": [
    {
     "name": "stdout",
     "output_type": "stream",
     "text": [
      "['Hello', 'My', 'name', 'is', 'Python', 'I', 'will', 'help', 'you', 'to', 'analyze', 'some', 'data'] 13\n"
     ]
    }
   ],
   "source": [
    "\n",
    "python_string = python_string.replace('!', '')\n",
    "python_string = python_string.replace('.', '')\n",
    "res = python_string.split()\n",
    "print(res, len(res))\n",
    "        "
   ]
  },
  {
   "cell_type": "markdown",
   "metadata": {},
   "source": [
    "Задание 1.8"
   ]
  },
  {
   "cell_type": "code",
   "execution_count": 5,
   "metadata": {},
   "outputs": [
    {
     "name": "stdout",
     "output_type": "stream",
     "text": [
      "User Lena changed password to qwerty\n"
     ]
    }
   ],
   "source": [
    "# Напишите свою функцию password_change, которая должна выводить на экран \n",
    "# отформатированную строку в следующем виде: \n",
    "\n",
    "# \"User user_name changed password to new_password\"\n",
    "\n",
    "# Мы уже сделали заготовку функции вам осталось только задать строку\n",
    "# Переменные, которые надо использовать, указаны в круглых скобках после имени функции\n",
    "# user_name - имя пользователя, new_password - новый пароль\n",
    "# запишите форматированную строку вместо знаков вопроса\n",
    "# ! обязательное условие - задача должна быть решена с использованием метода format\n",
    "\n",
    "def change_password(user_name, new_password):\n",
    "    return 'User {} changed password to {}'.format(user_name,new_password)\n",
    "\n",
    "print(change_password(\"Lena\", \"qwerty\"))"
   ]
  },
  {
   "cell_type": "code",
   "execution_count": 6,
   "metadata": {},
   "outputs": [
    {
     "name": "stdout",
     "output_type": "stream",
     "text": [
      "1_ БЛОК_ЗНАКОМСТВО С ДАННЫМИ. PYTHON ДЛЯ АНАЛИЗА ДАННЫХ\n"
     ]
    }
   ],
   "source": [
    "s = '1_ Блок_Знакомство с данными. Python для анализа данных'\n",
    "\n",
    "print(s.upper())"
   ]
  },
  {
   "cell_type": "markdown",
   "metadata": {},
   "source": [
    "Погружение в типы данных"
   ]
  },
  {
   "cell_type": "markdown",
   "metadata": {},
   "source": [
    "ЗАДАНИЕ 2.5"
   ]
  },
  {
   "cell_type": "code",
   "execution_count": 7,
   "metadata": {},
   "outputs": [
    {
     "name": "stdout",
     "output_type": "stream",
     "text": [
      "['57th', 'a', 'and', 'are', 'arrakis', 'as', 'balances', 'be', 'begin', 'beginning', 'bene', 'born', 'by', 'caladan', 'care', 'correct', 'deceived', 'delicate', 'do', 'dune', 'emperor', 'every', 'fact', 'fifteen', 'first', 'for', 'forever', 'gesserit', 'he', 'him', 'his', 'in', 'is', 'iv', 'known', 'knows', 'life', 'lived', 'locate', 'most', \"muad'dib\", 'not', 'of', 'on', 'padishah', 'place', 'planet', 'shaddam', 'sister', 'special', 'study', 'take', 'taking', 'that', 'the', 'then', 'there', 'this', 'time', 'to', 'was', 'year', 'years', 'you', 'your']\n"
     ]
    }
   ],
   "source": [
    "# Напишите функцию get_unique_words(), которая избавляется от знаков препинаний \n",
    "# и пробелов в тексте и возвращает упорядоченный список \n",
    "# (слова расположены по алфавиту) из уникальных (неповторяющихся) слов.\n",
    "\n",
    "# Можно использовать готовый список со знаками препинания:\n",
    "\n",
    "punctuation_list = ['.', ',', ';', ':', '...', '!', '?', '-', '\"', '(', ')']\n",
    "# Текст, который можно использовать в качестве примера:\n",
    "text_example = \"A beginning is the time for taking the most delicate care that the balances are correct. This every sister of the Bene Gesserit knows. To begin your study of the life of Muad'Dib, then take care that you first place him in his time: born in the 57th year of the Padishah Emperor, Shaddam IV. And take the most special care that you locate Muad'Dib in his place: the planet Arrakis. Do not be deceived by the fact that he was born on Caladan and lived his first fifteen years there. Arrakis, the planet known as Dune, is forever his place.\"\n",
    "\n",
    "def get_unique_words(text):\n",
    "    for sgn in text:\n",
    "        if sgn in punctuation_list:\n",
    "            text = text.replace(sgn,'')            \n",
    "    text = text.lower()\n",
    "    text = text.split()\n",
    "    text = set(text)\n",
    "    text = sorted(text)    \n",
    "    return list(text)\n",
    "\n",
    "print(get_unique_words(text_example))\n",
    "\n"
   ]
  },
  {
   "cell_type": "markdown",
   "metadata": {},
   "source": [
    "ЗАДАНИЕ 2.6"
   ]
  },
  {
   "cell_type": "markdown",
   "metadata": {},
   "source": [
    "Модифицируем предыдущее задание.\n",
    "\n",
    "Необходимо написать функцию get_most_frequent_word(), которая возвращает самое часто встречающееся слово в тексте. Не забудьте очистить тест от знаков пунктуации и привести текст к единому регистру (слова в верхнем и нижнем регистре считаются одним и тем же словом).\n",
    "\n",
    "Для решения можно использовать функцию из предыдущего задания."
   ]
  },
  {
   "cell_type": "code",
   "execution_count": 13,
   "metadata": {},
   "outputs": [
    {
     "name": "stdout",
     "output_type": "stream",
     "text": [
      "The most frequent word is: the \n",
      "Number of occurrences: 11\n"
     ]
    }
   ],
   "source": [
    "text_example = \"A beginning is the time for taking the most delicate care that the balances are correct. This every sister of the Bene Gesserit knows. To begin your study of the life of Muad'Dib, then take care that you first place him in his time: born in the 57th year of the Padishah Emperor, Shaddam IV. And take the most special care that you locate Muad'Dib in his place: the planet Arrakis. Do not be deceived by the fact that he was born on Caladan and lived his first fifteen years there. Arrakis, the planet known as Dune, is forever his place.\"\n",
    "max_i = 1\n",
    "def get_most_frequent_word(text):\n",
    "    for sgn in text:\n",
    "        if sgn in punctuation_list:\n",
    "            text = text.replace(sgn,'')\n",
    "    text = text.lower()\n",
    "    text = text.split()\n",
    "    global max_i\n",
    "    for wrd in text:\n",
    "        j = text.count(wrd)        \n",
    "        if j > max_i:\n",
    "            max_i = j\n",
    "            res_wrd = wrd\n",
    "    return res_wrd\n",
    "    \n",
    "print(f'The most frequent word is: {get_most_frequent_word(text_example)} \\nNumber of occurrences: {max_i}')\n",
    "\n"
   ]
  },
  {
   "cell_type": "markdown",
   "metadata": {},
   "source": [
    "ЗАДАНИЕ 2.7"
   ]
  },
  {
   "cell_type": "markdown",
   "metadata": {},
   "source": [
    "Разработайте функцию holes_count(), которая подсчитывает количество отверстий в заданном числе. Например, в цифре 8 два отверстия, в цифре 9 — одно. В числе 146 два отверстия."
   ]
  },
  {
   "cell_type": "code",
   "execution_count": 16,
   "metadata": {},
   "outputs": [
    {
     "name": "stdout",
     "output_type": "stream",
     "text": [
      "0\n",
      "1\n",
      "8\n"
     ]
    }
   ],
   "source": [
    "# Разработайте функцию holes_count(), которая подсчитывает количество отверстий \n",
    "# в заданном числе. Например, в цифре 8 два отверстия, в цифре 9 - одно. \n",
    "# В числе 146 - два отверстия. \n",
    "# Подсказка: используйте словарь для записи количества отверстий в цифрах\n",
    "\n",
    "def holes_count(number):\n",
    "    sum_holes = 0\n",
    "    str_number = str(number)\n",
    "    for digit in str_number:\n",
    "        if digit in ['4','6','9','0']:\n",
    "            sum_holes += 1\n",
    "        if digit == '8':\n",
    "            sum_holes += 2\n",
    "    return sum_holes\n",
    "\n",
    "print(holes_count(123))\n",
    "print(holes_count(1236))\n",
    "print(holes_count(8888))"
   ]
  },
  {
   "cell_type": "markdown",
   "metadata": {},
   "source": [
    "ЗАДАНИЕ 2.8"
   ]
  },
  {
   "cell_type": "markdown",
   "metadata": {},
   "source": [
    "Напишите программу, которая запрашивает у пользователя следующие данные : username, age, email о нескольких пользователях и собирает эти данные в структуру:\n",
    "\n",
    "[(1, {'username': user1, 'age': age1, 'email': email1}), \n",
    "(2, {'username': user2, 'age': age2, 'email': email2}), ... ]\n",
    "Первый элемент каждого кортежа — порядковый номер пользователя, второй элемент — словарь с данными.\n",
    "\n",
    "В итоге должен получиться список с кортежами.\n",
    "\n",
    "Далее необходимо провести аналитику (собрать данные о пользователях в словарь)\n",
    "\n",
    "{'username': [user1, user2, ...],\n",
    "'age': [age1, age2, ...],\n",
    "'email': [email1, email2, ...]}\n",
    "и вывести эту аналитику на экран."
   ]
  },
  {
   "cell_type": "code",
   "execution_count": 17,
   "metadata": {},
   "outputs": [],
   "source": [
    "# username = input('username:')\n",
    "# age = input('age:')\n",
    "# email = input('email:')\n",
    "#print(\"Enter data in the format 'username', 'age', 'email'\")\n",
    "\n",
    "def users_db(*args):\n",
    "    pass\n",
    "    "
   ]
  },
  {
   "cell_type": "markdown",
   "metadata": {},
   "source": [
    "3. Условные операторы"
   ]
  },
  {
   "cell_type": "markdown",
   "metadata": {},
   "source": [
    "Задание 3.4"
   ]
  },
  {
   "cell_type": "markdown",
   "metadata": {},
   "source": [
    "Напишите функцию find_min_number(), которая принимает три числа на вход и возвращает наименьшее из них.\n",
    "\n",
    "Используйте для решения задачи условия."
   ]
  },
  {
   "cell_type": "code",
   "execution_count": 22,
   "metadata": {},
   "outputs": [
    {
     "name": "stdout",
     "output_type": "stream",
     "text": [
      "3\n"
     ]
    }
   ],
   "source": [
    "# Напишите функция find_min_number(), которая принимает три числа на вход \n",
    "# и возвращает наименьшее из них.\n",
    "\n",
    "# Используйте условия для решения задачи\n",
    "\n",
    "def find_min_number(a, b, c):\n",
    "    numbers = set([int(a),int(b),int(c)])\n",
    "    return min(numbers)\n",
    "\n",
    "print(find_min_number(9, 11, 3))"
   ]
  },
  {
   "cell_type": "markdown",
   "metadata": {},
   "source": [
    "ЗАДАНИЕ 3.5"
   ]
  },
  {
   "cell_type": "markdown",
   "metadata": {},
   "source": [
    "Усложним предыдущую задачу.\n",
    "\n",
    "Напишите функцию sum_min_numbers(), которая также принимает на вход три числа и возвращает сумму двух наименьших.\n",
    "\n",
    "Можно использовать функцию из предыдущего задания для поиска минимального числа."
   ]
  },
  {
   "cell_type": "code",
   "execution_count": 36,
   "metadata": {},
   "outputs": [
    {
     "name": "stdout",
     "output_type": "stream",
     "text": [
      "[-5, 1, 9]\n",
      "-4\n"
     ]
    }
   ],
   "source": [
    "# Усложним предыдущую задачу.\n",
    "\n",
    "# Напишите функцию sum_min_numbers(), которая также принимает три числа на вход \n",
    "# и возвращает сумму двух наименьших.\n",
    "\n",
    "# Можно использовать функцию из предыдущего задания для поиска минимального числа.\n",
    "\n",
    "def find_min_number(a, b, c):\n",
    "    numbers = set([int(a),int(b),int(c)])\n",
    "    return min(numbers)\n",
    "  \n",
    "def sum_min_numbers(a, b, c):\n",
    "    numbers_lst = [a,b,c]\n",
    "    numbers_lst.sort()\n",
    "    print(numbers_lst)\n",
    "    return numbers_lst[0]+numbers_lst[1]\n",
    "\n",
    "print(sum_min_numbers(9, -5, 1))"
   ]
  },
  {
   "cell_type": "markdown",
   "metadata": {},
   "source": [
    "ЗАДАНИЕ 3.6"
   ]
  },
  {
   "cell_type": "markdown",
   "metadata": {},
   "source": [
    "Напишите функцию is_divided_by_six(), которая проверяет, делится ли число на 6.\n",
    "\n",
    "При решении воспользуйтесь тернарным оператором.\n",
    "\n",
    "Функция должна вернуть True, если число делится на шесть, и False — в противном случае."
   ]
  },
  {
   "cell_type": "code",
   "execution_count": 37,
   "metadata": {},
   "outputs": [
    {
     "name": "stdout",
     "output_type": "stream",
     "text": [
      "False\n",
      "True\n"
     ]
    }
   ],
   "source": [
    "# Напишите функцию is_divided_by_six(), которая проверяет, делится ли число на шесть. \n",
    "# При решении воспользуйтесь тернарным оператором!\n",
    "\n",
    "# Функция должна вернуть True, если число делится на шесть или False в обратном случае.\n",
    "\n",
    "# Подсказка: число делится на шесть, если оно делится на 2 и на 3\n",
    "\n",
    "def is_divided_by_six(number):\n",
    "  return True if (number%2==0 and number%3==0) else False\n",
    "\n",
    "print(is_divided_by_six(13))\n",
    "print(is_divided_by_six(12))"
   ]
  },
  {
   "cell_type": "markdown",
   "metadata": {},
   "source": [
    "ЗАДАНИЕ 3.7"
   ]
  },
  {
   "cell_type": "markdown",
   "metadata": {},
   "source": [
    "Напишите функцию check_number_sign(), которая возвращает 1, если число положительное, -1, если число отрицательное, 0, если число — 0.\n",
    "\n",
    "Функция принимает на вход одно число.\n",
    "\n",
    "Используйте в коде множественные ветвления."
   ]
  },
  {
   "cell_type": "code",
   "execution_count": 38,
   "metadata": {},
   "outputs": [
    {
     "name": "stdout",
     "output_type": "stream",
     "text": [
      "0\n",
      "1\n",
      "-1\n"
     ]
    }
   ],
   "source": [
    "# Напишите функцию check_number_sign(), которая возвращает 1, если число положительное, \n",
    "# -1, если число отрицательное, 0, если число - 0.\n",
    "\n",
    "# Используйте в коде конструкцию if-elif-else.\n",
    "\n",
    "# Функция принимает на вход одно число.\n",
    "\n",
    "def check_number_sign(x):\n",
    "    if x == 0:\n",
    "        return 0\n",
    "    elif x > 0:\n",
    "        return 1\n",
    "    else:\n",
    "        return -1\n",
    "\n",
    "\n",
    "print(check_number_sign(0))\n",
    "print(check_number_sign(100))\n",
    "print(check_number_sign(-1))"
   ]
  },
  {
   "cell_type": "markdown",
   "metadata": {},
   "source": [
    "ЗАДАНИЕ 3.8"
   ]
  },
  {
   "cell_type": "markdown",
   "metadata": {},
   "source": [
    "Напишите функцию def division(), которая осуществляет деление двух чисел.\n",
    "\n",
    "Необходимо реализовать внутри функции отлов исключения ZeroDivisionError на случай, если пользователь при вызове функции попытается поделить на ноль.\n",
    "\n",
    "Функция принимает на вход два числа — делимое и делитель, и возвращает частное.\n",
    "\n",
    "Если в процессе выполнения функции было поймано исключение ZeroDivisionError , то на экран нужно вывести сообщение 'Error! Matrices dimensions are different!' с помощью функции print(), а затем вернуть значение None из функции."
   ]
  },
  {
   "cell_type": "code",
   "execution_count": 43,
   "metadata": {},
   "outputs": [
    {
     "name": "stdout",
     "output_type": "stream",
     "text": [
      "Error! Matrices dimensions are different!\n",
      "None\n",
      "0.3333333333333333\n"
     ]
    }
   ],
   "source": [
    "# Напишите функцию def division(), которая осуществляет деление двух чисел. \n",
    "# Необходимо реализовать внутри функции отлов исключения ZeroDivisionError, \n",
    "# в случае, если пользователь, при вызове функции, пытается поделить на ноль.\n",
    "\n",
    "# Функция принимает на вход два числа - делимое и делитель.\n",
    "\n",
    "def division(a, b):\n",
    "    if b == 0:\n",
    "        try:\n",
    "            raise ZeroDivisionError('Error! Matrices dimensions are different!')\n",
    "        except ZeroDivisionError as e:\n",
    "            print(e)\n",
    "            return\n",
    "    return a/b\n",
    "\n",
    "print(division(1, 0))\n",
    "print(division(1, 3))"
   ]
  },
  {
   "cell_type": "markdown",
   "metadata": {},
   "source": [
    "4. Циклы"
   ]
  },
  {
   "cell_type": "markdown",
   "metadata": {},
   "source": [
    "ЗАДАНИЕ 4.4"
   ]
  },
  {
   "cell_type": "markdown",
   "metadata": {},
   "source": [
    "Напишите функцию lucky_ticket(), которая проверяет, является ли билет счастливым.\n",
    "\n",
    "Примечание: билет счастливый, если сумма первых трёх цифр равна сумме последних трёх цифр.\n",
    "\n",
    "На вход функция получает шестизначное число."
   ]
  },
  {
   "cell_type": "code",
   "execution_count": 48,
   "metadata": {},
   "outputs": [
    {
     "name": "stdout",
     "output_type": "stream",
     "text": [
      "True\n",
      "False\n"
     ]
    }
   ],
   "source": [
    "# Напишите функцию lucky_ticket(), которая проверяет, является ли билетик счастливым.\n",
    "\n",
    "# Памятка: билетик счастливый, если сумма первых трех цифр равна сумме последних трех цифр.\n",
    "\n",
    "# На вход функция получает шестизначное число.\n",
    "\n",
    "def lucky_ticket(ticket_number):\n",
    "    tic_num_str_lst = list(str(ticket_number))\n",
    "    sum_num_left = int(tic_num_str_lst[0])+int(tic_num_str_lst[1])+int(tic_num_str_lst[2])\n",
    "    sum_num_right = int(tic_num_str_lst[3])+int(tic_num_str_lst[4])+int(tic_num_str_lst[5])\n",
    "    if sum_num_left == sum_num_right:\n",
    "        return True\n",
    "    \n",
    "    return False\n",
    "\n",
    "print(lucky_ticket(111111))\n",
    "print(lucky_ticket(123456))"
   ]
  },
  {
   "cell_type": "markdown",
   "metadata": {},
   "source": [
    "ЗАДАНИЕ 4.5"
   ]
  },
  {
   "cell_type": "markdown",
   "metadata": {},
   "source": [
    "Напишите функцию def fib_number(), которая получает на вход некоторое число n и выводит n-e число Фибоначчи.\n",
    "\n",
    "Задачу можно решить как с помощью цикла for, так и с помощью цикла while.\n",
    "\n",
    "Примечание 1: числа Фибоначчи определяются так\n",
    "\n",
    "a0 = 0, a1 = 1, a2 = a1 + a0 = 1, an = a_n-1 + a_n-2\n",
    "\n",
    "Примечание 2: в модуле по функциям уже было задание на вычисление чисел Фибоначчи с помощью рекурсивных функций. Здесь необходимо реализовать те же вычисления, но без использования рекурсии."
   ]
  },
  {
   "cell_type": "code",
   "execution_count": 86,
   "metadata": {},
   "outputs": [
    {
     "name": "stdout",
     "output_type": "stream",
     "text": [
      "0\n",
      "1\n",
      "144\n"
     ]
    }
   ],
   "source": [
    "# Числа Фибоначчи. \n",
    "\n",
    "# Напишите функцию def fib_number(), которая получается на вход некоторое \n",
    "# число n и выводит n-e число Фибоначчи. \n",
    "# Задачу можно решить как с помощью цикла for, так и с помощью цикла while\n",
    "\n",
    "# Примечание: числа Фибоначчи определяются так\n",
    "\n",
    "\n",
    "# ```\n",
    "# a0 = 0, a1 = 1, a2 = a1 + a0 = 1, an = a_n-1 + a_n-2\n",
    "# ```\n",
    "\n",
    "# Примечание: в модуле по функциям уже было задание на вычисление чисел Фибоначчи \n",
    "# с помощью рекурсивных функций. Здесь необходимо реализовать те же вычисления, \n",
    "# но без использования рекурсии.\n",
    "\n",
    "def fib_number(n):\n",
    "    num_before_1 = 1\n",
    "    num_before_2 = 0\n",
    "    res = 0\n",
    "    counter = n\n",
    "    if n == 1:\n",
    "        res = 1\n",
    "    while counter > 1:\n",
    "        res = num_before_1 + num_before_2\n",
    "        num_before_2 = num_before_1\n",
    "        num_before_1 = res\n",
    "        counter -= 1\n",
    "    return res\n",
    "\n",
    "print(fib_number(0))\n",
    "print(fib_number(1))\n",
    "print(fib_number(12))"
   ]
  },
  {
   "cell_type": "markdown",
   "metadata": {},
   "source": [
    "ЗАДАНИЕ 4.6"
   ]
  },
  {
   "cell_type": "markdown",
   "metadata": {},
   "source": [
    "Напишите функцию def even_numbers_in_matrix(), которая получает на вход матрицу (список из списков) и возвращает количество чётных чисел в ней."
   ]
  },
  {
   "cell_type": "code",
   "execution_count": 88,
   "metadata": {},
   "outputs": [
    {
     "name": "stdout",
     "output_type": "stream",
     "text": [
      "5\n"
     ]
    }
   ],
   "source": [
    "# Напишите функцию def even_numbers_in_matrix(), \n",
    "# которая получает на вход матрицу (список из списков) \n",
    "# и возвращает количество четных чисел в ней.\n",
    "\n",
    "matrix_example = [\n",
    "          [1, 5, 4],\n",
    "          [4, 2, -2],\n",
    "          [7, 65, 88]\n",
    "]\n",
    "\n",
    "def even_numbers_in_matrix(matrix):\n",
    "    counter_even_numbers = 0\n",
    "    for i in matrix:\n",
    "        for j in i:\n",
    "            if j%2==0:\n",
    "                counter_even_numbers +=1\n",
    "            \n",
    "    return counter_even_numbers\n",
    "\n",
    "print(even_numbers_in_matrix(matrix_example))"
   ]
  },
  {
   "cell_type": "markdown",
   "metadata": {},
   "source": [
    "ЗАДАНИЕ 4.7"
   ]
  },
  {
   "cell_type": "markdown",
   "metadata": {},
   "source": [
    "Напишите функцию def matrix_sum(), которая получает на вход две матрицы и возвращает их сумму.\n",
    "\n",
    "Примечание: чтобы найти сумму двух матриц, нужно просуммировать их соответствующие элементы. Но перед этим необходимо проверить, что размеры матриц одинаковы (одинаковое количество столбцов и одинаковое количество строк). Если размеры матриц не совпадают, то надо вывести на экран сообщение 'Error! Matrices dimensions are different!' с помощью функции print(), а затем вернуть значение None из функции matrix_sum()."
   ]
  },
  {
   "cell_type": "code",
   "execution_count": 119,
   "metadata": {},
   "outputs": [
    {
     "name": "stdout",
     "output_type": "stream",
     "text": [
      "(3, 4, 3)\n",
      "(3, 4, 3)\n",
      "[[2, 10, 8], [8, 4, -4, 115], [14, 130, 176]]\n"
     ]
    }
   ],
   "source": [
    "# Напишите функцию def matrix_sum(), которая получает на вход две матрицы \n",
    "# и возвращает их сумму.\n",
    "\n",
    "# Примечание: чтобы найти сумму двух матриц, нужно просуммировать \n",
    "# их соответствующие элементы. Но перед этим необходимо проверить, что размеры \n",
    "# матриц одинаковы (одинаковое количество столбцов и одинаковое количество строк)\n",
    "\n",
    "# Например:\n",
    "\n",
    "# 1 2 3   2 3 4   3 5 7\n",
    "# 2 3 4 + 4 5 6 = 6 8 10\n",
    "# 5 6 7   4 3 2   9 9 9\n",
    "\n",
    "matrix_example1 = [\n",
    "          [1, 5, 4],\n",
    "          [4, 2, -2,56],\n",
    "          [7, 65, 88]\n",
    "]\n",
    "matrix_example2 = [\n",
    "          [1, 5, 4],\n",
    "          [4, 2, -2,59],\n",
    "          [7, 65, 88]\n",
    "]\n",
    "def check_matrix_dim(matrix):\n",
    "      dim_lst = []\n",
    "      for i in matrix:\n",
    "            dim_lst.append(len(i))\n",
    "      return tuple(dim_lst)\n",
    "    \n",
    "def matrix_sum(matrix1, matrix2):\n",
    "    matrix_res = matrix1\n",
    "    if not (check_matrix_dim(matrix1) == check_matrix_dim(matrix2)):\n",
    "          print('Error! Matrices dimensions are different!')\n",
    "          return\n",
    "    for i, i_lst in enumerate(matrix1):\n",
    "      for j, j_num in enumerate(i_lst):            \n",
    "            matrix_res[i][j] = matrix1[i][j] + matrix2[i][j]\n",
    "            \n",
    "            \n",
    "    return matrix_res\n",
    "print(check_matrix_dim(matrix_example1))\n",
    "print(check_matrix_dim(matrix_example2))\n",
    "print(matrix_sum(matrix_example1, matrix_example2))"
   ]
  }
 ],
 "metadata": {
  "interpreter": {
   "hash": "b7ec038717c5fb24dc411165f4cac633945c04e5870d786804644f951795d114"
  },
  "kernelspec": {
   "display_name": "Python 3.10.4 64-bit",
   "language": "python",
   "name": "python3"
  },
  "language_info": {
   "codemirror_mode": {
    "name": "ipython",
    "version": 3
   },
   "file_extension": ".py",
   "mimetype": "text/x-python",
   "name": "python",
   "nbconvert_exporter": "python",
   "pygments_lexer": "ipython3",
   "version": "3.10.4"
  },
  "orig_nbformat": 4
 },
 "nbformat": 4,
 "nbformat_minor": 2
}
