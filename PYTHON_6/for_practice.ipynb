{
 "cells": [
  {
   "cell_type": "markdown",
   "metadata": {},
   "source": [
    "Задание 1.5"
   ]
  },
  {
   "cell_type": "code",
   "execution_count": 1,
   "metadata": {},
   "outputs": [
    {
     "name": "stdout",
     "output_type": "stream",
     "text": [
      "238328\n"
     ]
    }
   ],
   "source": [
    "python_string = 'Hello! My name is Python. I will help you to analyze some data'\n",
    "num = int(len(python_string))\n",
    "print(num**3)"
   ]
  },
  {
   "cell_type": "markdown",
   "metadata": {},
   "source": [
    "Задание 1.6"
   ]
  },
  {
   "cell_type": "code",
   "execution_count": 6,
   "metadata": {},
   "outputs": [
    {
     "name": "stdout",
     "output_type": "stream",
     "text": [
      "Python\n"
     ]
    }
   ],
   "source": [
    "print(python_string[18:24])"
   ]
  },
  {
   "cell_type": "markdown",
   "metadata": {},
   "source": [
    "Задание 1.7"
   ]
  },
  {
   "cell_type": "code",
   "execution_count": 13,
   "metadata": {},
   "outputs": [
    {
     "name": "stdout",
     "output_type": "stream",
     "text": [
      "['Hello', 'My', 'name', 'is', 'Python', 'I', 'will', 'help', 'you', 'to', 'analyze', 'some', 'data'] 13\n"
     ]
    }
   ],
   "source": [
    "\n",
    "python_string = python_string.replace('!', '')\n",
    "python_string = python_string.replace('.', '')\n",
    "res = python_string.split()\n",
    "print(res, len(res))\n",
    "        "
   ]
  },
  {
   "cell_type": "markdown",
   "metadata": {},
   "source": [
    "Задание 1.8"
   ]
  },
  {
   "cell_type": "code",
   "execution_count": 12,
   "metadata": {},
   "outputs": [
    {
     "name": "stdout",
     "output_type": "stream",
     "text": [
      "User Lena changed password to qwerty\n"
     ]
    }
   ],
   "source": [
    "# Напишите свою функцию password_change, которая должна выводить на экран \n",
    "# отформатированную строку в следующем виде: \n",
    "\n",
    "# \"User user_name changed password to new_password\"\n",
    "\n",
    "# Мы уже сделали заготовку функции вам осталось только задать строку\n",
    "# Переменные, которые надо использовать, указаны в круглых скобках после имени функции\n",
    "# user_name - имя пользователя, new_password - новый пароль\n",
    "# запишите форматированную строку вместо знаков вопроса\n",
    "# ! обязательное условие - задача должна быть решена с использованием метода format\n",
    "\n",
    "def change_password(user_name, new_password):\n",
    "    return 'User {} changed password to {}'.format(user_name,new_password)\n",
    "\n",
    "print(change_password(\"Lena\", \"qwerty\"))"
   ]
  },
  {
   "cell_type": "code",
   "execution_count": 22,
   "metadata": {},
   "outputs": [
    {
     "name": "stdout",
     "output_type": "stream",
     "text": [
      "1_ БЛОК_ЗНАКОМСТВО С ДАННЫМИ. PYTHON ДЛЯ АНАЛИЗА ДАННЫХ\n"
     ]
    }
   ],
   "source": [
    "s = '1_ Блок_Знакомство с данными. Python для анализа данных'\n",
    "\n",
    "print(s.upper())"
   ]
  },
  {
   "cell_type": "markdown",
   "metadata": {},
   "source": [
    "Погружение в типы данных"
   ]
  },
  {
   "cell_type": "markdown",
   "metadata": {},
   "source": [
    "ЗАДАНИЕ 2.5"
   ]
  },
  {
   "cell_type": "code",
   "execution_count": 2,
   "metadata": {},
   "outputs": [
    {
     "name": "stdout",
     "output_type": "stream",
     "text": [
      "['57th', 'a', 'and', 'are', 'arrakis', 'as', 'balances', 'be', 'begin', 'beginning', 'bene', 'born', 'by', 'caladan', 'care', 'correct', 'deceived', 'delicate', 'do', 'dune', 'emperor', 'every', 'fact', 'fifteen', 'first', 'for', 'forever', 'gesserit', 'he', 'him', 'his', 'in', 'is', 'iv', 'known', 'knows', 'life', 'lived', 'locate', 'most', \"muad'dib\", 'not', 'of', 'on', 'padishah', 'place', 'planet', 'shaddam', 'sister', 'special', 'study', 'take', 'taking', 'that', 'the', 'then', 'there', 'this', 'time', 'to', 'was', 'year', 'years', 'you', 'your']\n"
     ]
    }
   ],
   "source": [
    "# Напишите функцию get_unique_words(), которая избавляется от знаков препинаний \n",
    "# и пробелов в тексте и возвращает упорядоченный список \n",
    "# (слова расположены по алфавиту) из уникальных (неповторяющихся) слов.\n",
    "\n",
    "# Можно использовать готовый список со знаками препинания:\n",
    "\n",
    "punctuation_list = ['.', ',', ';', ':', '...', '!', '?', '-', '\"', '(', ')']\n",
    "# Текст, который можно использовать в качестве примера:\n",
    "text_example = \"A beginning is the time for taking the most delicate care that the balances are correct. This every sister of the Bene Gesserit knows. To begin your study of the life of Muad'Dib, then take care that you first place him in his time: born in the 57th year of the Padishah Emperor, Shaddam IV. And take the most special care that you locate Muad'Dib in his place: the planet Arrakis. Do not be deceived by the fact that he was born on Caladan and lived his first fifteen years there. Arrakis, the planet known as Dune, is forever his place.\"\n",
    "\n",
    "def get_unique_words(text):\n",
    "    for sgn in text:\n",
    "        if sgn in punctuation_list:\n",
    "            text = text.replace(sgn,'')            \n",
    "    text = text.lower()\n",
    "    text = text.split()\n",
    "    text = set(text)\n",
    "    text = sorted(text)    \n",
    "    return list(text)\n",
    "\n",
    "print(get_unique_words(text_example))\n",
    "\n"
   ]
  },
  {
   "cell_type": "markdown",
   "metadata": {},
   "source": [
    "ЗАДАНИЕ 2.6"
   ]
  },
  {
   "cell_type": "markdown",
   "metadata": {},
   "source": [
    "Модифицируем предыдущее задание.\n",
    "\n",
    "Необходимо написать функцию get_most_frequent_word(), которая возвращает самое часто встречающееся слово в тексте. Не забудьте очистить тест от знаков пунктуации и привести текст к единому регистру (слова в верхнем и нижнем регистре считаются одним и тем же словом).\n",
    "\n",
    "Для решения можно использовать функцию из предыдущего задания."
   ]
  },
  {
   "cell_type": "code",
   "execution_count": 9,
   "metadata": {},
   "outputs": [
    {
     "name": "stdout",
     "output_type": "stream",
     "text": [
      "2\n",
      "11\n",
      "the\n"
     ]
    }
   ],
   "source": [
    "text_example = \"A beginning is the time for taking the most delicate care that the balances are correct. This every sister of the Bene Gesserit knows. To begin your study of the life of Muad'Dib, then take care that you first place him in his time: born in the 57th year of the Padishah Emperor, Shaddam IV. And take the most special care that you locate Muad'Dib in his place: the planet Arrakis. Do not be deceived by the fact that he was born on Caladan and lived his first fifteen years there. Arrakis, the planet known as Dune, is forever his place.\"\n",
    "\n",
    "def get_most_frequent_word(text):\n",
    "    for sgn in text:\n",
    "        if sgn in punctuation_list:\n",
    "            text = text.replace(sgn,'')\n",
    "    text = text.lower()\n",
    "    text = text.split()\n",
    "    max_i = 1\n",
    "    for wrd in text:\n",
    "        j = text.count(wrd)        \n",
    "        if j > max_i:\n",
    "            max_i = j\n",
    "            print(j)\n",
    "            res_wrd = wrd\n",
    "            \n",
    "    return res_wrd\n",
    "    \n",
    "print(get_most_frequent_word(text_example))\n",
    "\n"
   ]
  },
  {
   "cell_type": "markdown",
   "metadata": {},
   "source": [
    "ЗАДАНИЕ 2.7"
   ]
  },
  {
   "cell_type": "markdown",
   "metadata": {},
   "source": [
    "Разработайте функцию holes_count(), которая подсчитывает количество отверстий в заданном числе. Например, в цифре 8 два отверстия, в цифре 9 — одно. В числе 146 два отверстия."
   ]
  },
  {
   "cell_type": "code",
   "execution_count": 11,
   "metadata": {},
   "outputs": [
    {
     "name": "stdout",
     "output_type": "stream",
     "text": [
      "0\n",
      "1\n",
      "8\n"
     ]
    }
   ],
   "source": [
    "# Разработайте функцию holes_count(), которая подсчитывает количество отверстий \n",
    "# в заданном числе. Например, в цифре 8 два отверстия, в цифре 9 - одно. \n",
    "# В числе 146 - два отверстия. \n",
    "# Подсказка: используйте словарь для записи количества отверстий в цифрах\n",
    "\n",
    "def holes_count(number):\n",
    "    sum_holes = 0\n",
    "    str_number = str(number)\n",
    "    for digit in str_number:\n",
    "        if digit in ['4','6','9','0']:\n",
    "            sum_holes += 1\n",
    "        if digit == '8':\n",
    "            sum_holes += 2\n",
    "    return sum_holes\n",
    "\n",
    "print(holes_count(123))\n",
    "print(holes_count(1239))\n",
    "print(holes_count(8888))"
   ]
  },
  {
   "cell_type": "markdown",
   "metadata": {},
   "source": [
    "ЗАДАНИЕ 2.8"
   ]
  },
  {
   "cell_type": "markdown",
   "metadata": {},
   "source": [
    "Напишите программу, которая запрашивает у пользователя следующие данные : username, age, email о нескольких пользователях и собирает эти данные в структуру:\n",
    "\n",
    "[(1, {'username': user1, 'age': age1, 'email': email1}), \n",
    "(2, {'username': user2, 'age': age2, 'email': email2}), ... ]\n",
    "Первый элемент каждого кортежа — порядковый номер пользователя, второй элемент — словарь с данными.\n",
    "\n",
    "В итоге должен получиться список с кортежами.\n",
    "\n",
    "Далее необходимо провести аналитику (собрать данные о пользователях в словарь)\n",
    "\n",
    "{'username': [user1, user2, ...],\n",
    "'age': [age1, age2, ...],\n",
    "'email': [email1, email2, ...]}\n",
    "и вывести эту аналитику на экран."
   ]
  }
 ],
 "metadata": {
  "interpreter": {
   "hash": "b7ec038717c5fb24dc411165f4cac633945c04e5870d786804644f951795d114"
  },
  "kernelspec": {
   "display_name": "Python 3.10.4 64-bit",
   "language": "python",
   "name": "python3"
  },
  "language_info": {
   "codemirror_mode": {
    "name": "ipython",
    "version": 3
   },
   "file_extension": ".py",
   "mimetype": "text/x-python",
   "name": "python",
   "nbconvert_exporter": "python",
   "pygments_lexer": "ipython3",
   "version": "3.10.4"
  },
  "orig_nbformat": 4
 },
 "nbformat": 4,
 "nbformat_minor": 2
}
